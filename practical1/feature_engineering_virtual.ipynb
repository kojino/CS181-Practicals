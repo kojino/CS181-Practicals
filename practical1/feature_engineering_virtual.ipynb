{
 "cells": [
  {
   "cell_type": "code",
   "execution_count": 8,
   "metadata": {
    "collapsed": false
   },
   "outputs": [],
   "source": [
    "from rdkit.Chem import Fragments\n",
    "from rdkit.Chem import Mol\n",
    "from rdkit.Chem import rdMolDescriptors\n",
    "from rdkit.Chem import Draw\n",
    "from rdkit.Chem import Mol\n",
    "from rdkit import Chem\n",
    "\n",
    "import pandas as pd\n",
    "import numpy as np"
   ]
  },
  {
   "cell_type": "code",
   "execution_count": 3,
   "metadata": {
    "collapsed": false
   },
   "outputs": [],
   "source": [
    "#df_features = pd.read_pickle('df_features.pkl')\n",
    "df_test = pd.read_pickle('test_updated.pkl')"
   ]
  },
  {
   "cell_type": "code",
   "execution_count": 28,
   "metadata": {
    "collapsed": false
   },
   "outputs": [
    {
     "name": "stderr",
     "output_type": "stream",
     "text": [
      "/anaconda/envs/my-rdkit-env/lib/python2.7/site-packages/ipykernel/__main__.py:1: FutureWarning: sort(columns=....) is deprecated, use sort_values(by=.....)\n",
      "  if __name__ == '__main__':\n"
     ]
    }
   ],
   "source": [
    "df_sorted = df_features.sort(\"gap\", axis=0, ascending=0)"
   ]
  },
  {
   "cell_type": "code",
   "execution_count": 100,
   "metadata": {
    "collapsed": false
   },
   "outputs": [],
   "source": [
    "topMolecules = df_sorted.smiles[0:500].tolist()\n",
    "bottomMolecules = df_sorted.smiles[-500:].tolist()"
   ]
  },
  {
   "cell_type": "code",
   "execution_count": 101,
   "metadata": {
    "collapsed": true
   },
   "outputs": [],
   "source": [
    "topGap = df_sorted.gap[0:500].tolist()\n",
    "bottomGap = df_sorted.gap[-500:].tolist()"
   ]
  },
  {
   "cell_type": "code",
   "execution_count": 91,
   "metadata": {
    "collapsed": false
   },
   "outputs": [],
   "source": [
    "for i in range(0,100) :\n",
    "    name = topMolecules[i]\n",
    "    m1 = Chem.MolFromSmiles(name)\n",
    "    Draw.MolToFile(m1,'images/top/'+name+'.png')\n",
    "    \n",
    "    name = bottomMolecules[i]\n",
    "    m2 = Chem.MolFromSmiles(name)\n",
    "    Draw.MolToFile(m2, 'images/bottom/'+name+'.png')"
   ]
  },
  {
   "cell_type": "code",
   "execution_count": 146,
   "metadata": {
    "collapsed": false
   },
   "outputs": [],
   "source": [
    "nMolecules = 5000\n",
    "\n",
    "randomMolecules = df_sorted.sample(nMolecules)\n",
    "randomGap = randomMolecules.gap.tolist()\n",
    "randomMol = randomMolecules.smiles.tolist()\n",
    "\n",
    "rings = []\n",
    "\n",
    "for i in range(0,nMolecules) :\n",
    "    m = Chem.MolFromSmiles(randomMol[i])\n",
    "    rings.append(Fragments.fr_benzene(m))\n",
    "    \n",
    "export = pd.DataFrame()\n",
    "export['rings'] = rings\n",
    "export['gap'] = randomGap\n",
    "export.to_pickle('pkl/benzene.pkl')"
   ]
  },
  {
   "cell_type": "code",
   "execution_count": 147,
   "metadata": {
    "collapsed": false
   },
   "outputs": [],
   "source": [
    "nAtoms = []\n",
    "\n",
    "for i in range(0,nMolecules) :\n",
    "    m = Chem.MolFromSmiles(randomMol[i])\n",
    "    nAtoms.append(Mol.GetNumAtoms(m))\n",
    "    \n",
    "export = pd.DataFrame()\n",
    "export['nAtoms'] = nAtoms\n",
    "export['gap'] = randomGap\n",
    "export.to_pickle('pkl/nAtoms.pkl')"
   ]
  },
  {
   "cell_type": "code",
   "execution_count": 148,
   "metadata": {
    "collapsed": false
   },
   "outputs": [],
   "source": [
    "nBonds = []\n",
    "\n",
    "for i in range(0,nMolecules) :\n",
    "    m = Chem.MolFromSmiles(randomMol[i])\n",
    "    nBonds.append(Mol.GetNumBonds(m))\n",
    "    \n",
    "export = pd.DataFrame()\n",
    "export['nBonds'] = nBonds\n",
    "export['gap'] = randomGap\n",
    "export.to_pickle('pkl/nBonds.pkl')"
   ]
  },
  {
   "cell_type": "code",
   "execution_count": 149,
   "metadata": {
    "collapsed": false
   },
   "outputs": [],
   "source": [
    "csp3 = []\n",
    "\n",
    "for i in range(0,nMolecules) :\n",
    "    m = Chem.MolFromSmiles(randomMol[i])\n",
    "    csp3.append(rdMolDescriptors.CalcFractionCSP3(m))\n",
    "    \n",
    "export = pd.DataFrame()\n",
    "export['csp3'] = csp3\n",
    "export['gap'] = randomGap\n",
    "export.to_pickle('pkl/csp3.pkl')"
   ]
  },
  {
   "cell_type": "code",
   "execution_count": 150,
   "metadata": {
    "collapsed": true
   },
   "outputs": [],
   "source": [
    "rings = []\n",
    "\n",
    "for i in range(0,nMolecules) :\n",
    "    m = Chem.MolFromSmiles(randomMol[i])\n",
    "    rings.append(rdMolDescriptors.CalcNumRings(m))\n",
    "    \n",
    "export = pd.DataFrame()\n",
    "export['rings'] = rings\n",
    "export['gap'] = randomGap\n",
    "export.to_pickle('pkl/rings.pkl')"
   ]
  },
  {
   "cell_type": "code",
   "execution_count": 151,
   "metadata": {
    "collapsed": true
   },
   "outputs": [],
   "source": [
    "weight = []\n",
    "\n",
    "for i in range(0,nMolecules) :\n",
    "    m = Chem.MolFromSmiles(randomMol[i])\n",
    "    weight.append(rdMolDescriptors.CalcExactMolWt(m))\n",
    "    \n",
    "export = pd.DataFrame()\n",
    "export['weight'] = weight\n",
    "export['gap'] = randomGap\n",
    "export.to_pickle('pkl/weight.pkl')"
   ]
  },
  {
   "cell_type": "code",
   "execution_count": 152,
   "metadata": {
    "collapsed": true
   },
   "outputs": [],
   "source": [
    "chi0n = []\n",
    "\n",
    "for i in range(0,nMolecules) :\n",
    "    m = Chem.MolFromSmiles(randomMol[i])\n",
    "    chi0n.append(rdMolDescriptors.CalcChi0n(m))\n",
    "    \n",
    "export = pd.DataFrame()\n",
    "export['chi0n'] = chi0n\n",
    "export['gap'] = randomGap\n",
    "export.to_pickle('pkl/chi0n.pkl')"
   ]
  },
  {
   "cell_type": "code",
   "execution_count": 153,
   "metadata": {
    "collapsed": true
   },
   "outputs": [],
   "source": [
    "kappa3 = []\n",
    "\n",
    "for i in range(0,nMolecules) :\n",
    "    m = Chem.MolFromSmiles(randomMol[i])\n",
    "    kappa3.append(rdMolDescriptors.CalcKappa3(m))\n",
    "    \n",
    "export = pd.DataFrame()\n",
    "export['kappa3'] = kappa3\n",
    "export['gap'] = randomGap\n",
    "export.to_pickle('pkl/kappa3.pkl')"
   ]
  },
  {
   "cell_type": "code",
   "execution_count": 6,
   "metadata": {
    "collapsed": false
   },
   "outputs": [],
   "source": [
    "def addRDKITFeature(chemFunction, colname, df) :\n",
    "    newdf = df.copy()\n",
    "    newdf[colname] = [chemFunction(Chem.MolFromSmiles(smile)) for smile in newdf.smiles]\n",
    "    return newdf"
   ]
  },
  {
   "cell_type": "code",
   "execution_count": 160,
   "metadata": {
    "collapsed": false
   },
   "outputs": [],
   "source": [
    "df_updated = addRDKITFeature(rdMolDescriptors.CalcKappa3, 'kappa3', df_features)"
   ]
  },
  {
   "cell_type": "code",
   "execution_count": 164,
   "metadata": {
    "collapsed": false
   },
   "outputs": [],
   "source": [
    "df_updated = addRDKITFeature(rdMolDescriptors.CalcChi0n, 'chi0n', df_updated)"
   ]
  },
  {
   "cell_type": "code",
   "execution_count": 167,
   "metadata": {
    "collapsed": true
   },
   "outputs": [],
   "source": [
    "df_updated = addRDKITFeature(rdMolDescriptors.CalcExactMolWt, 'weight', df_updated)"
   ]
  },
  {
   "cell_type": "code",
   "execution_count": 170,
   "metadata": {
    "collapsed": true
   },
   "outputs": [],
   "source": [
    "df_updated = addRDKITFeature(rdMolDescriptors.CalcNumRings, 'nrings', df_updated)"
   ]
  },
  {
   "cell_type": "code",
   "execution_count": 173,
   "metadata": {
    "collapsed": true
   },
   "outputs": [],
   "source": [
    "df_updated = addRDKITFeature(rdMolDescriptors.CalcFractionCSP3, 'csp3', df_updated)"
   ]
  },
  {
   "cell_type": "code",
   "execution_count": 177,
   "metadata": {
    "collapsed": false
   },
   "outputs": [],
   "source": [
    "df_updated = addRDKITFeature(Mol.GetNumBonds, 'nbonds', df_updated)"
   ]
  },
  {
   "cell_type": "code",
   "execution_count": 180,
   "metadata": {
    "collapsed": true
   },
   "outputs": [],
   "source": [
    "df_updated = addRDKITFeature(Fragments.fr_benzene, 'benzene', df_updated)"
   ]
  },
  {
   "cell_type": "code",
   "execution_count": 182,
   "metadata": {
    "collapsed": true
   },
   "outputs": [],
   "source": [
    "df_updated.to_pickle('df_updated.pkl')"
   ]
  },
  {
   "cell_type": "code",
   "execution_count": 9,
   "metadata": {
    "collapsed": false
   },
   "outputs": [],
   "source": [
    "test_all = addRDKITFeature(rdMolDescriptors.CalcKappa3, 'kappa3', df_test)\n",
    "test_all = addRDKITFeature(rdMolDescriptors.CalcChi0n, 'chi0n', test_all)\n",
    "test_all = addRDKITFeature(rdMolDescriptors.CalcExactMolWt, 'weight', test_all)\n",
    "test_all = addRDKITFeature(rdMolDescriptors.CalcNumRings, 'nrings', test_all)\n",
    "test_all = addRDKITFeature(rdMolDescriptors.CalcFractionCSP3, 'csp3', test_all)\n",
    "test_all = addRDKITFeature(Mol.GetNumBonds, 'nbonds', test_all)\n",
    "test_all = addRDKITFeature(Fragments.fr_benzene, 'benzene', test_all)\n",
    "test_all.to_pickle('test_all.pkl')"
   ]
  },
  {
   "cell_type": "code",
   "execution_count": 185,
   "metadata": {
    "collapsed": false
   },
   "outputs": [
    {
     "name": "stdout",
     "output_type": "stream",
     "text": [
      "(1000000, 273)\n"
     ]
    },
    {
     "data": {
      "text/html": [
       "<div>\n",
       "<table border=\"1\" class=\"dataframe\">\n",
       "  <thead>\n",
       "    <tr style=\"text-align: right;\">\n",
       "      <th></th>\n",
       "      <th>smiles</th>\n",
       "      <th>feat_001</th>\n",
       "      <th>feat_002</th>\n",
       "      <th>feat_003</th>\n",
       "      <th>feat_004</th>\n",
       "      <th>feat_005</th>\n",
       "      <th>feat_006</th>\n",
       "      <th>feat_007</th>\n",
       "      <th>feat_008</th>\n",
       "      <th>feat_009</th>\n",
       "      <th>...</th>\n",
       "      <th>c12</th>\n",
       "      <th>c1cc2</th>\n",
       "      <th>c1sc-c2</th>\n",
       "      <th>kappa3</th>\n",
       "      <th>chi0n</th>\n",
       "      <th>weight</th>\n",
       "      <th>nrings</th>\n",
       "      <th>csp3</th>\n",
       "      <th>nbonds</th>\n",
       "      <th>benzene</th>\n",
       "    </tr>\n",
       "  </thead>\n",
       "  <tbody>\n",
       "    <tr>\n",
       "      <th>0</th>\n",
       "      <td>c1ccc(o1)-c1ccc(s1)-c1cnc(-c2scc3[se]ccc23)c2n...</td>\n",
       "      <td>0</td>\n",
       "      <td>0</td>\n",
       "      <td>0</td>\n",
       "      <td>0</td>\n",
       "      <td>1</td>\n",
       "      <td>0</td>\n",
       "      <td>1</td>\n",
       "      <td>0</td>\n",
       "      <td>0</td>\n",
       "      <td>...</td>\n",
       "      <td>1</td>\n",
       "      <td>0</td>\n",
       "      <td>0</td>\n",
       "      <td>2.488705</td>\n",
       "      <td>13.579035</td>\n",
       "      <td>470.907296</td>\n",
       "      <td>6</td>\n",
       "      <td>0.000000</td>\n",
       "      <td>32</td>\n",
       "      <td>0</td>\n",
       "    </tr>\n",
       "    <tr>\n",
       "      <th>1</th>\n",
       "      <td>C1=CC=C(C1)c1cc2ncc3c4[SiH2]C=Cc4ncc3c2c2=C[Si...</td>\n",
       "      <td>1</td>\n",
       "      <td>0</td>\n",
       "      <td>0</td>\n",
       "      <td>0</td>\n",
       "      <td>1</td>\n",
       "      <td>0</td>\n",
       "      <td>1</td>\n",
       "      <td>0</td>\n",
       "      <td>0</td>\n",
       "      <td>...</td>\n",
       "      <td>1</td>\n",
       "      <td>1</td>\n",
       "      <td>0</td>\n",
       "      <td>1.834149</td>\n",
       "      <td>13.789250</td>\n",
       "      <td>352.085202</td>\n",
       "      <td>6</td>\n",
       "      <td>0.047619</td>\n",
       "      <td>30</td>\n",
       "      <td>1</td>\n",
       "    </tr>\n",
       "    <tr>\n",
       "      <th>2</th>\n",
       "      <td>[nH]1c-2c([SiH2]c3cc(-c4scc5C=CCc45)c4nsnc4c-2...</td>\n",
       "      <td>1</td>\n",
       "      <td>0</td>\n",
       "      <td>0</td>\n",
       "      <td>0</td>\n",
       "      <td>1</td>\n",
       "      <td>1</td>\n",
       "      <td>1</td>\n",
       "      <td>0</td>\n",
       "      <td>0</td>\n",
       "      <td>...</td>\n",
       "      <td>1</td>\n",
       "      <td>0</td>\n",
       "      <td>0</td>\n",
       "      <td>1.800046</td>\n",
       "      <td>14.243939</td>\n",
       "      <td>399.032016</td>\n",
       "      <td>7</td>\n",
       "      <td>0.047619</td>\n",
       "      <td>33</td>\n",
       "      <td>2</td>\n",
       "    </tr>\n",
       "    <tr>\n",
       "      <th>3</th>\n",
       "      <td>[nH]1c2-c3occc3Cc2c2c1cc(-c1cccc3=C[SiH2]C=c13...</td>\n",
       "      <td>1</td>\n",
       "      <td>0</td>\n",
       "      <td>0</td>\n",
       "      <td>0</td>\n",
       "      <td>1</td>\n",
       "      <td>1</td>\n",
       "      <td>1</td>\n",
       "      <td>0</td>\n",
       "      <td>0</td>\n",
       "      <td>...</td>\n",
       "      <td>0</td>\n",
       "      <td>0</td>\n",
       "      <td>0</td>\n",
       "      <td>1.744430</td>\n",
       "      <td>14.803071</td>\n",
       "      <td>379.084867</td>\n",
       "      <td>7</td>\n",
       "      <td>0.043478</td>\n",
       "      <td>33</td>\n",
       "      <td>2</td>\n",
       "    </tr>\n",
       "    <tr>\n",
       "      <th>4</th>\n",
       "      <td>c1cnc2c3oc4cc(-c5ncncn5)c5nsnc5c4c3c3cocc3c2c1</td>\n",
       "      <td>0</td>\n",
       "      <td>0</td>\n",
       "      <td>0</td>\n",
       "      <td>0</td>\n",
       "      <td>1</td>\n",
       "      <td>0</td>\n",
       "      <td>1</td>\n",
       "      <td>0</td>\n",
       "      <td>0</td>\n",
       "      <td>...</td>\n",
       "      <td>0</td>\n",
       "      <td>0</td>\n",
       "      <td>0</td>\n",
       "      <td>1.865235</td>\n",
       "      <td>14.526829</td>\n",
       "      <td>396.042944</td>\n",
       "      <td>7</td>\n",
       "      <td>0.000000</td>\n",
       "      <td>35</td>\n",
       "      <td>2</td>\n",
       "    </tr>\n",
       "  </tbody>\n",
       "</table>\n",
       "<p>5 rows × 273 columns</p>\n",
       "</div>"
      ],
      "text/plain": [
       "                                              smiles  feat_001  feat_002  \\\n",
       "0  c1ccc(o1)-c1ccc(s1)-c1cnc(-c2scc3[se]ccc23)c2n...         0         0   \n",
       "1  C1=CC=C(C1)c1cc2ncc3c4[SiH2]C=Cc4ncc3c2c2=C[Si...         1         0   \n",
       "2  [nH]1c-2c([SiH2]c3cc(-c4scc5C=CCc45)c4nsnc4c-2...         1         0   \n",
       "3  [nH]1c2-c3occc3Cc2c2c1cc(-c1cccc3=C[SiH2]C=c13...         1         0   \n",
       "4     c1cnc2c3oc4cc(-c5ncncn5)c5nsnc5c4c3c3cocc3c2c1         0         0   \n",
       "\n",
       "   feat_003  feat_004  feat_005  feat_006  feat_007  feat_008  feat_009  \\\n",
       "0         0         0         1         0         1         0         0   \n",
       "1         0         0         1         0         1         0         0   \n",
       "2         0         0         1         1         1         0         0   \n",
       "3         0         0         1         1         1         0         0   \n",
       "4         0         0         1         0         1         0         0   \n",
       "\n",
       "    ...     c12  c1cc2  c1sc-c2    kappa3      chi0n      weight  nrings  \\\n",
       "0   ...       1      0        0  2.488705  13.579035  470.907296       6   \n",
       "1   ...       1      1        0  1.834149  13.789250  352.085202       6   \n",
       "2   ...       1      0        0  1.800046  14.243939  399.032016       7   \n",
       "3   ...       0      0        0  1.744430  14.803071  379.084867       7   \n",
       "4   ...       0      0        0  1.865235  14.526829  396.042944       7   \n",
       "\n",
       "       csp3  nbonds  benzene  \n",
       "0  0.000000      32        0  \n",
       "1  0.047619      30        1  \n",
       "2  0.047619      33        2  \n",
       "3  0.043478      33        2  \n",
       "4  0.000000      35        2  \n",
       "\n",
       "[5 rows x 273 columns]"
      ]
     },
     "execution_count": 185,
     "metadata": {},
     "output_type": "execute_result"
    }
   ],
   "source": [
    "print df_updated.shape\n",
    "df_updated.head()"
   ]
  },
  {
   "cell_type": "code",
   "execution_count": 10,
   "metadata": {
    "collapsed": false
   },
   "outputs": [
    {
     "data": {
      "text/html": [
       "<div>\n",
       "<table border=\"1\" class=\"dataframe\">\n",
       "  <thead>\n",
       "    <tr style=\"text-align: right;\">\n",
       "      <th></th>\n",
       "      <th>Id</th>\n",
       "      <th>smiles</th>\n",
       "      <th>feat_001</th>\n",
       "      <th>feat_002</th>\n",
       "      <th>feat_003</th>\n",
       "      <th>feat_004</th>\n",
       "      <th>feat_005</th>\n",
       "      <th>feat_006</th>\n",
       "      <th>feat_007</th>\n",
       "      <th>feat_008</th>\n",
       "      <th>...</th>\n",
       "      <th>c12</th>\n",
       "      <th>c1cc2</th>\n",
       "      <th>c1sc-c2</th>\n",
       "      <th>kappa3</th>\n",
       "      <th>chi0n</th>\n",
       "      <th>weight</th>\n",
       "      <th>nrings</th>\n",
       "      <th>csp3</th>\n",
       "      <th>nbonds</th>\n",
       "      <th>benzene</th>\n",
       "    </tr>\n",
       "  </thead>\n",
       "  <tbody>\n",
       "    <tr>\n",
       "      <th>0</th>\n",
       "      <td>1</td>\n",
       "      <td>c1sc(-c2cnc3c(c2)c2nsnc2c2cc4cccnc4cc32)c2cc[n...</td>\n",
       "      <td>0</td>\n",
       "      <td>0</td>\n",
       "      <td>0</td>\n",
       "      <td>0</td>\n",
       "      <td>1</td>\n",
       "      <td>1</td>\n",
       "      <td>1</td>\n",
       "      <td>0</td>\n",
       "      <td>...</td>\n",
       "      <td>1</td>\n",
       "      <td>0</td>\n",
       "      <td>1</td>\n",
       "      <td>2.082237</td>\n",
       "      <td>14.878854</td>\n",
       "      <td>409.045587</td>\n",
       "      <td>7</td>\n",
       "      <td>0.000000</td>\n",
       "      <td>35</td>\n",
       "      <td>2</td>\n",
       "    </tr>\n",
       "    <tr>\n",
       "      <th>1</th>\n",
       "      <td>2</td>\n",
       "      <td>[nH]1cccc1-c1cc2c3nsnc3c3c4sccc4[nH]c3c2s1</td>\n",
       "      <td>0</td>\n",
       "      <td>0</td>\n",
       "      <td>0</td>\n",
       "      <td>0</td>\n",
       "      <td>1</td>\n",
       "      <td>1</td>\n",
       "      <td>1</td>\n",
       "      <td>0</td>\n",
       "      <td>...</td>\n",
       "      <td>0</td>\n",
       "      <td>1</td>\n",
       "      <td>0</td>\n",
       "      <td>1.490074</td>\n",
       "      <td>11.583274</td>\n",
       "      <td>351.991109</td>\n",
       "      <td>6</td>\n",
       "      <td>0.000000</td>\n",
       "      <td>28</td>\n",
       "      <td>1</td>\n",
       "    </tr>\n",
       "    <tr>\n",
       "      <th>2</th>\n",
       "      <td>3</td>\n",
       "      <td>[nH]1c2cc(-c3ccc[se]3)c3nsnc3c2c2c3cscc3c3ccc4...</td>\n",
       "      <td>1</td>\n",
       "      <td>0</td>\n",
       "      <td>0</td>\n",
       "      <td>0</td>\n",
       "      <td>1</td>\n",
       "      <td>1</td>\n",
       "      <td>1</td>\n",
       "      <td>0</td>\n",
       "      <td>...</td>\n",
       "      <td>1</td>\n",
       "      <td>0</td>\n",
       "      <td>0</td>\n",
       "      <td>2.127198</td>\n",
       "      <td>16.099782</td>\n",
       "      <td>514.948537</td>\n",
       "      <td>8</td>\n",
       "      <td>0.000000</td>\n",
       "      <td>38</td>\n",
       "      <td>3</td>\n",
       "    </tr>\n",
       "    <tr>\n",
       "      <th>3</th>\n",
       "      <td>4</td>\n",
       "      <td>[nH]1c(cc2cnc3c(c12)c1=C[SiH2]C=c1c1ccc2=CCC=c...</td>\n",
       "      <td>1</td>\n",
       "      <td>0</td>\n",
       "      <td>0</td>\n",
       "      <td>0</td>\n",
       "      <td>1</td>\n",
       "      <td>1</td>\n",
       "      <td>1</td>\n",
       "      <td>0</td>\n",
       "      <td>...</td>\n",
       "      <td>0</td>\n",
       "      <td>0</td>\n",
       "      <td>0</td>\n",
       "      <td>1.756258</td>\n",
       "      <td>15.120528</td>\n",
       "      <td>376.103190</td>\n",
       "      <td>7</td>\n",
       "      <td>0.041667</td>\n",
       "      <td>34</td>\n",
       "      <td>2</td>\n",
       "    </tr>\n",
       "    <tr>\n",
       "      <th>4</th>\n",
       "      <td>5</td>\n",
       "      <td>c1sc(-c2sc(-c3sc(-c4scc5[se]ccc45)c4ccoc34)c3c...</td>\n",
       "      <td>0</td>\n",
       "      <td>0</td>\n",
       "      <td>0</td>\n",
       "      <td>0</td>\n",
       "      <td>1</td>\n",
       "      <td>0</td>\n",
       "      <td>1</td>\n",
       "      <td>0</td>\n",
       "      <td>...</td>\n",
       "      <td>1</td>\n",
       "      <td>0</td>\n",
       "      <td>1</td>\n",
       "      <td>2.432797</td>\n",
       "      <td>16.039489</td>\n",
       "      <td>569.844956</td>\n",
       "      <td>8</td>\n",
       "      <td>0.000000</td>\n",
       "      <td>39</td>\n",
       "      <td>0</td>\n",
       "    </tr>\n",
       "  </tbody>\n",
       "</table>\n",
       "<p>5 rows × 273 columns</p>\n",
       "</div>"
      ],
      "text/plain": [
       "   Id                                             smiles  feat_001  feat_002  \\\n",
       "0   1  c1sc(-c2cnc3c(c2)c2nsnc2c2cc4cccnc4cc32)c2cc[n...         0         0   \n",
       "1   2         [nH]1cccc1-c1cc2c3nsnc3c3c4sccc4[nH]c3c2s1         0         0   \n",
       "2   3  [nH]1c2cc(-c3ccc[se]3)c3nsnc3c2c2c3cscc3c3ccc4...         1         0   \n",
       "3   4  [nH]1c(cc2cnc3c(c12)c1=C[SiH2]C=c1c1ccc2=CCC=c...         1         0   \n",
       "4   5  c1sc(-c2sc(-c3sc(-c4scc5[se]ccc45)c4ccoc34)c3c...         0         0   \n",
       "\n",
       "   feat_003  feat_004  feat_005  feat_006  feat_007  feat_008   ...     c12  \\\n",
       "0         0         0         1         1         1         0   ...       1   \n",
       "1         0         0         1         1         1         0   ...       0   \n",
       "2         0         0         1         1         1         0   ...       1   \n",
       "3         0         0         1         1         1         0   ...       0   \n",
       "4         0         0         1         0         1         0   ...       1   \n",
       "\n",
       "   c1cc2  c1sc-c2    kappa3      chi0n      weight  nrings      csp3  nbonds  \\\n",
       "0      0        1  2.082237  14.878854  409.045587       7  0.000000      35   \n",
       "1      1        0  1.490074  11.583274  351.991109       6  0.000000      28   \n",
       "2      0        0  2.127198  16.099782  514.948537       8  0.000000      38   \n",
       "3      0        0  1.756258  15.120528  376.103190       7  0.041667      34   \n",
       "4      0        1  2.432797  16.039489  569.844956       8  0.000000      39   \n",
       "\n",
       "   benzene  \n",
       "0        2  \n",
       "1        1  \n",
       "2        3  \n",
       "3        2  \n",
       "4        0  \n",
       "\n",
       "[5 rows x 273 columns]"
      ]
     },
     "execution_count": 10,
     "metadata": {},
     "output_type": "execute_result"
    }
   ],
   "source": [
    "test_all.head()"
   ]
  },
  {
   "cell_type": "code",
   "execution_count": null,
   "metadata": {
    "collapsed": true
   },
   "outputs": [],
   "source": []
  }
 ],
 "metadata": {
  "kernelspec": {
   "display_name": "Python 2",
   "language": "python",
   "name": "python2"
  },
  "language_info": {
   "codemirror_mode": {
    "name": "ipython",
    "version": 2
   },
   "file_extension": ".py",
   "mimetype": "text/x-python",
   "name": "python",
   "nbconvert_exporter": "python",
   "pygments_lexer": "ipython2",
   "version": "2.7.11"
  }
 },
 "nbformat": 4,
 "nbformat_minor": 0
}
